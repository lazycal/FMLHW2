{
 "cells": [
  {
   "cell_type": "code",
   "execution_count": 16,
   "metadata": {
    "scrolled": true
   },
   "outputs": [],
   "source": [
    "sex={'M': [1,0,0], 'F': [0,1,0], 'I': [0,0,1]}\n",
    "res=[]\n",
    "with open('./abalone.data') as fin:\n",
    "    for line in fin.readlines():\n",
    "        a=line.strip().split(',')\n",
    "        a=[a[-1]]+sex[a[0]]+a[1:-1]\n",
    "        res.append(f\"{int(int(a[0])>9)} \"+\" \".join(\n",
    "            [f\"{i}:{a[i]}\" for i in range(1, len(a))]))\n",
    "with open('./abalone.train', 'w') as fout:\n",
    "    fout.write(\"\\n\".join(res[:3133]))\n",
    "with open('./abalone.test', 'w') as fout:\n",
    "    fout.write(\"\\n\".join(res[-1044:]))"
   ]
  },
  {
   "cell_type": "code",
   "execution_count": 32,
   "metadata": {},
   "outputs": [
    {
     "name": "stdout",
     "output_type": "stream",
     "text": [
      "3133\n"
     ]
    }
   ],
   "source": [
    "import random\n",
    "with open('./train.scale') as fin:\n",
    "    lines = fin.readlines()\n",
    "    print(len(lines))\n",
    "nfold = 10\n",
    "n = len(lines)\n",
    "assert n == 3133\n",
    "idx = list(range(n))\n",
    "random.seed(0)\n",
    "random.shuffle(idx)\n",
    "# print(idx)\n",
    "for i in range(nfold):\n",
    "    step = n/nfold\n",
    "    st, ed = int(i*step), int((i+1)*step)\n",
    "    fold_val = [lines[j] for j in idx[st:ed]]\n",
    "    fold_train = [lines[j] for j in (idx[:st]+idx[ed:])]\n",
    "    assert len(fold_train) + len(fold_val) == n\n",
    "    with open(f'./train.scale.{i}', 'w') as fout:\n",
    "        fout.write(''.join(fold_train))\n",
    "    with open(f'./val.scale.{i}', 'w') as fout:\n",
    "        fout.write(''.join(fold_val))"
   ]
  },
  {
   "cell_type": "markdown",
   "metadata": {},
   "source": [
    "# Training the final models and plot for 4"
   ]
  },
  {
   "cell_type": "code",
   "execution_count": 147,
   "metadata": {},
   "outputs": [
    {
     "data": {
      "image/png": "[encoded data removed]",
      "text/plain": [
       "<Figure size 1080x720 with 4 Axes>"
      ]
     },
     "metadata": {
      "needs_background": "light"
     },
     "output_type": "display_data"
    }
   ],
   "source": [
    "import numpy as np\n",
    "import os\n",
    "%matplotlib inline\n",
    "import matplotlib.pyplot as plt\n",
    "ks, ys, ers = [[] for _ in range(5)], [[] for _ in range(5)], [[] for _ in range(5)] # for each d\n",
    "for k in list(range(-10, 18))+[30]:\n",
    "    for d in range(1, 5):\n",
    "        C = 2**k\n",
    "        a = []\n",
    "        path = f'./cv/result/result.d{d}.k{k}'\n",
    "        if not os.path.exists(path): \n",
    "            print(f\"WARNING: {path} does not exist\")\n",
    "            assert False\n",
    "            continue\n",
    "        with open(path) as fin:\n",
    "            for line in fin.readlines():\n",
    "                assert line[:len(\"Accuracy = \")]==\"Accuracy = \"\n",
    "                a.append(1-float(line[len(\"Accuracy = \"):].split('%')[0])/100)\n",
    "#         print(np.mean(a), np.std(a))\n",
    "        ks[d].append(k)\n",
    "        ys[d].append(np.mean(a))\n",
    "        ers[d].append(np.std(a))\n",
    "plt.figure(figsize=(15,10))\n",
    "for d in range(1, 5):\n",
    "    plt.subplot(2,2,d)\n",
    "    plt.errorbar(ks[d], ys[d], ers[d], linestyle='None', fmt='.', capsize=3) \n",
    "    plt.title(f\"CV error plus or minus one std-dev with d={d}\")\n",
    "    plt.xlabel(\"k\")\n",
    "    plt.ylabel(\"CV error\")\n",
    "plt.savefig(f\"./cv/d.pdf\")\n",
    "plt.show()"
   ]
  },
  {
   "cell_type": "code",
   "execution_count": 108,
   "metadata": {},
   "outputs": [
    {
     "name": "stdout",
     "output_type": "stream",
     "text": [
      "0.19183160000000005 (2, 9)\n",
      "./libsvm-3.24/svm-train -t 1 -c 512 -d 1 train.scale ./model.d1 > ./train.d1.txt\n",
      "./libsvm-3.24/svm-predict test.scale ./model.d1 /dev/null\n",
      "Accuracy = 77.7778% (812/1044) (classification)\n",
      "\n",
      "0.22222200000000003\n",
      "./libsvm-3.24/svm-train -t 1 -c 512 -d 2 train.scale ./model.d2 > ./train.d2.txt\n",
      "./libsvm-3.24/svm-predict test.scale ./model.d2 /dev/null\n",
      "Accuracy = 78.5441% (820/1044) (classification)\n",
      "\n",
      "0.21455899999999994\n",
      "./libsvm-3.24/svm-train -t 1 -c 512 -d 3 train.scale ./model.d3 > ./train.d3.txt\n",
      "./libsvm-3.24/svm-predict test.scale ./model.d3 /dev/null\n",
      "Accuracy = 78.4483% (819/1044) (classification)\n",
      "\n",
      "0.21551699999999996\n",
      "./libsvm-3.24/svm-train -t 1 -c 512 -d 4 train.scale ./model.d4 > ./train.d4.txt\n",
      "./libsvm-3.24/svm-predict test.scale ./model.d4 /dev/null\n",
      "Accuracy = 77.9693% (814/1044) (classification)\n",
      "\n",
      "0.22030699999999992\n"
     ]
    }
   ],
   "source": [
    "min_y, min_dk = 1e100, None\n",
    "for d in range(1,5):\n",
    "    for k,y in zip(ks[d], ys[d]):\n",
    "        if min_dk is None or min_y > y: min_y, min_dk = y, (d,k)\n",
    "print(min_y, min_dk)\n",
    "errs = [0 for _ in range(5)]\n",
    "del k,C,d\n",
    "for d in range(1,5):\n",
    "    C = 2**min_dk[1]\n",
    "    model=f\"./model.d{d}\"\n",
    "    cmd=f\"./libsvm-3.24/svm-train -t 1 -c {C} -d {d} \"\\\n",
    "    f\"train.scale {model} > ./train.d{d}.txt\"\n",
    "    print(cmd)\n",
    "    Popen(cmd, shell=True).wait()\n",
    "    cmd=f\"./libsvm-3.24/svm-predict test.scale {model} /dev/null\"\n",
    "    print(cmd)\n",
    "    proc=Popen(cmd, shell=True, stdout=PIPE, universal_newlines=True)\n",
    "    line = proc.communicate()[0]\n",
    "    print(line)\n",
    "    assert line[:len(\"Accuracy = \")]==\"Accuracy = \"\n",
    "    err = 1-float(line[len(\"Accuracy = \"):].split('%')[0])/100\n",
    "    print(err)\n",
    "    errs[d] = err"
   ]
  },
  {
   "cell_type": "code",
   "execution_count": 109,
   "metadata": {},
   "outputs": [
    {
     "data": {
      "image/png": "[encoded data removed]",
      "text/plain": [
       "<Figure size 432x288 with 1 Axes>"
      ]
     },
     "metadata": {
      "needs_background": "light"
     },
     "output_type": "display_data"
    }
   ],
   "source": [
    "plt.scatter(range(1,5), errs[1:], label=\"test error\", color='orange')\n",
    "cverrs = [0 for _ in range(5)]\n",
    "cverrs_er = [0 for _ in range(5)]\n",
    "for d in range(1, 5):\n",
    "    for k,y,er in zip(ks[d],ys[d],ers[d]):\n",
    "        if k == min_dk[1]:\n",
    "            cverrs[d] = y\n",
    "            cverrs_er[d] = er\n",
    "plt.errorbar(range(1,5), cverrs[1:], cverrs_er[1:], linestyle='None', fmt='o', capsize=3, label=\"CV error\") \n",
    "plt.legend()\n",
    "plt.xlabel(\"d\")\n",
    "plt.savefig(\"best.pdf\")"
   ]
  },
  {
   "cell_type": "code",
   "execution_count": 113,
   "metadata": {},
   "outputs": [
    {
     "data": {
      "image/png": "[encoded data removed]",
      "text/plain": [
       "<Figure size 432x288 with 1 Axes>"
      ]
     },
     "metadata": {
      "needs_background": "light"
     },
     "output_type": "display_data"
    },
    {
     "name": "stdout",
     "output_type": "stream",
     "text": [
      "[12, 34, 44, 48]\n"
     ]
    },
    {
     "data": {
      "image/png": "[encoded data removed]",
      "text/plain": [
       "<Figure size 432x288 with 1 Axes>"
      ]
     },
     "metadata": {
      "needs_background": "light"
     },
     "output_type": "display_data"
    }
   ],
   "source": [
    "plt.scatter(range(1,5), [1523,1465,1462,1469])\n",
    "plt.xlabel(\"d\")\n",
    "plt.savefig(\"nsv.pdf\")\n",
    "plt.show()\n",
    "tmp=[1523-1511,1465-1431,1462-1418,1469-1421]\n",
    "print(tmp)\n",
    "plt.scatter(range(1,5), tmp)\n",
    "plt.xlabel(\"d\")\n",
    "plt.savefig(\"margin.pdf\")"
   ]
  },
  {
   "cell_type": "markdown",
   "metadata": {},
   "source": [
    "# Training the final models and plot for 6(d)"
   ]
  },
  {
   "cell_type": "code",
   "execution_count": 136,
   "metadata": {},
   "outputs": [
    {
     "data": {
      "text/plain": [
       "<function __main__.K(x1, x2, d)>"
      ]
     },
     "execution_count": 136,
     "metadata": {},
     "output_type": "execute_result"
    }
   ],
   "source": [
    "from subprocess import Popen, PIPE\n",
    "import numpy as np\n",
    "import os\n",
    "%matplotlib inline\n",
    "import matplotlib.pyplot as plt\n",
    "ks, ys, ers = [[] for _ in range(5)], [[] for _ in range(5)], [[] for _ in range(5)] # for each d\n",
    "for k in list(range(-40, 18))+[20]:\n",
    "    for d in range(1, 5):\n",
    "        C = 2**k\n",
    "        a = []\n",
    "        path = f'./cv-d/result/result.d{d}.k{k}'\n",
    "        if not os.path.exists(path): \n",
    "            print(f\"WARNING: {path} does not exist\")\n",
    "#             assert False\n",
    "            continue\n",
    "        with open(path) as fin:\n",
    "            for line in fin.readlines():\n",
    "                assert line[:len(\"Accuracy = \")]==\"Accuracy = \"\n",
    "                a.append(1-float(line[len(\"Accuracy = \"):].split('%')[0])/100)\n",
    "#         print(np.mean(a), np.std(a))\n",
    "        ks[d].append(k)\n",
    "        ys[d].append(np.mean(a))\n",
    "        ers[d].append(np.std(a))\n",
    "plt.figure(figsize=(15,10))\n",
    "for d in range(1, 5):\n",
    "    plt.subplot(2,2,d)\n",
    "    plt.errorbar(ks[d], ys[d], ers[d], linestyle='None', fmt='.', capsize=3) \n",
    "    plt.title(f\"CV error plus or minus one std-dev with d={d}\")\n",
    "    plt.xlabel(\"k\")\n",
    "    plt.ylabel(\"CV error\")\n",
    "plt.savefig(f\"./cv-d/d.pdf\")\n",
    "plt.show()\n",
    "\n",
    "min_y, min_dk = 1e100, None\n",
    "for d in range(1,5):\n",
    "    for k,y in zip(ks[d], ys[d]):\n",
    "        if min_dk is None or min_y > y: min_y, min_dk = y, (d,k)\n",
    "print(min_y, min_dk)\n",
    "errs = [0 for _ in range(5)]\n",
    "del k,C,d\n",
    "for d in range(1,5):\n",
    "    C = 2**min_dk[1]\n",
    "    model=f\"./model.d{d}\"\n",
    "    cmd=f\"./libsvm-3.24/svm-train -t 0 -c {C} \"\\\n",
    "    f\"train.scale.transformed{d} {model} > ./train.d{d}.txt\"\n",
    "    print(cmd)\n",
    "    Popen(cmd, shell=True).wait()\n",
    "    cmd=f\"./libsvm-3.24/svm-predict test.scale.transformed{d} {model} /dev/null\"\n",
    "    print(cmd)\n",
    "    proc=Popen(cmd, shell=True, stdout=PIPE, universal_newlines=True)\n",
    "    line = proc.communicate()[0]\n",
    "    print(line)\n",
    "    assert line[:len(\"Accuracy = \")]==\"Accuracy = \"\n",
    "    err = 1-float(line[len(\"Accuracy = \"):].split('%')[0])/100\n",
    "    print(err)\n",
    "    errs[d] = err\n",
    "\n",
    "plt.scatter(range(1,5), errs[1:], label=\"test error\", color='orange')\n",
    "cverrs = [0 for _ in range(5)]\n",
    "cverrs_er = [0 for _ in range(5)]\n",
    "for d in range(1, 5):\n",
    "    for k,y,er in zip(ks[d],ys[d],ers[d]):\n",
    "        if k == min_dk[1]:\n",
    "            cverrs[d] = y\n",
    "            cverrs_er[d] = er\n",
    "plt.errorbar(range(1,5), cverrs[1:], cverrs_er[1:], linestyle='None', fmt='o', capsize=3, label=\"CV error\") \n",
    "plt.legend()\n",
    "plt.xlabel(\"d\")\n",
    "plt.savefig(\"best-6d.pdf\")"
   ]
  }
 ],
 "metadata": {
  "kernelspec": {
   "display_name": "Python 3",
   "language": "python",
   "name": "python3"
  },
  "language_info": {
   "codemirror_mode": {
    "name": "ipython",
    "version": 3
   },
   "file_extension": ".py",
   "mimetype": "text/x-python",
   "name": "python",
   "nbconvert_exporter": "python",
   "pygments_lexer": "ipython3",
   "version": "3.7.4"
  }
 },
 "nbformat": 4,
 "nbformat_minor": 2
}
